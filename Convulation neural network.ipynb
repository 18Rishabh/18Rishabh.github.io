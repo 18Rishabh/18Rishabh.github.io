{
  "nbformat": 4,
  "nbformat_minor": 0,
  "metadata": {
    "colab": {
      "name": "Untitled",
      "provenance": [],
      "include_colab_link": true
    },
    "kernelspec": {
      "name": "python3",
      "display_name": "Python 3"
    }
  },
  "cells": [
    {
      "cell_type": "markdown",
      "metadata": {
        "id": "view-in-github",
        "colab_type": "text"
      },
      "source": [
        "<a href=\"https://colab.research.google.com/github/18Rishabh/18Rishabh.github.io/blob/master/Convulation%20neural%20network.ipynb\" target=\"_parent\"><img src=\"https://colab.research.google.com/assets/colab-badge.svg\" alt=\"Open In Colab\"/></a>"
      ]
    },
    {
      "cell_type": "code",
      "metadata": {
        "id": "rR9QHxHhIvwt",
        "colab_type": "code",
        "outputId": "5f29de81-59fd-474a-affa-c2a156bcbfb6",
        "colab": {
          "base_uri": "https://localhost:8080/",
          "height": 114
        }
      },
      "source": [
        "from keras.datasets import mnist\n",
        "(X_train,y_train),(X_test,y_test)=mnist.load_data()"
      ],
      "execution_count": 0,
      "outputs": [
        {
          "output_type": "stream",
          "text": [
            "Using TensorFlow backend.\n"
          ],
          "name": "stderr"
        },
        {
          "output_type": "display_data",
          "data": {
            "text/html": [
              "<p style=\"color: red;\">\n",
              "The default version of TensorFlow in Colab will soon switch to TensorFlow 2.x.<br>\n",
              "We recommend you <a href=\"https://www.tensorflow.org/guide/migrate\" target=\"_blank\">upgrade</a> now \n",
              "or ensure your notebook will continue to use TensorFlow 1.x via the <code>%tensorflow_version 1.x</code> magic:\n",
              "<a href=\"https://colab.research.google.com/notebooks/tensorflow_version.ipynb\" target=\"_blank\">more info</a>.</p>\n"
            ],
            "text/plain": [
              "<IPython.core.display.HTML object>"
            ]
          },
          "metadata": {
            "tags": []
          }
        },
        {
          "output_type": "stream",
          "text": [
            "Downloading data from https://s3.amazonaws.com/img-datasets/mnist.npz\n",
            "11493376/11490434 [==============================] - 1s 0us/step\n"
          ],
          "name": "stdout"
        }
      ]
    },
    {
      "cell_type": "code",
      "metadata": {
        "id": "4Fjp7lXCMZSY",
        "colab_type": "code",
        "outputId": "1e846291-c446-4bf7-95e9-91e6e739a1e3",
        "colab": {
          "base_uri": "https://localhost:8080/",
          "height": 34
        }
      },
      "source": [
        "print(X_train.shape)"
      ],
      "execution_count": 0,
      "outputs": [
        {
          "output_type": "stream",
          "text": [
            "(60000, 28, 28)\n"
          ],
          "name": "stdout"
        }
      ]
    },
    {
      "cell_type": "code",
      "metadata": {
        "id": "7mD8J0w5MirC",
        "colab_type": "code",
        "outputId": "c78e2668-4574-4285-ba77-556a83e2d384",
        "colab": {
          "base_uri": "https://localhost:8080/",
          "height": 34
        }
      },
      "source": [
        "print(y_train.shape)"
      ],
      "execution_count": 0,
      "outputs": [
        {
          "output_type": "stream",
          "text": [
            "(60000,)\n"
          ],
          "name": "stdout"
        }
      ]
    },
    {
      "cell_type": "code",
      "metadata": {
        "id": "UtBBIlBLMpVd",
        "colab_type": "code",
        "outputId": "22f5b225-8083-484a-e970-460c0c6e50a4",
        "colab": {
          "base_uri": "https://localhost:8080/",
          "height": 34
        }
      },
      "source": [
        "print(X_test.shape)"
      ],
      "execution_count": 0,
      "outputs": [
        {
          "output_type": "stream",
          "text": [
            "(10000, 28, 28)\n"
          ],
          "name": "stdout"
        }
      ]
    },
    {
      "cell_type": "code",
      "metadata": {
        "id": "QCozhFTaM1Bk",
        "colab_type": "code",
        "outputId": "a3c69ea8-3a23-400e-8e51-7e36a10b3338",
        "colab": {
          "base_uri": "https://localhost:8080/",
          "height": 34
        }
      },
      "source": [
        "print(y_test.size)"
      ],
      "execution_count": 0,
      "outputs": [
        {
          "output_type": "stream",
          "text": [
            "10000\n"
          ],
          "name": "stdout"
        }
      ]
    },
    {
      "cell_type": "code",
      "metadata": {
        "id": "Ehcju8vROFzW",
        "colab_type": "code",
        "colab": {}
      },
      "source": [
        "from keras import models\n",
        "from keras import layers"
      ],
      "execution_count": 0,
      "outputs": []
    },
    {
      "cell_type": "code",
      "metadata": {
        "id": "PceTRQ3EPPEY",
        "colab_type": "code",
        "outputId": "3264a688-3cd0-45b6-f396-ac0b817e6f75",
        "colab": {
          "base_uri": "https://localhost:8080/",
          "height": 139
        }
      },
      "source": [
        "network=models.Sequential()\n",
        "network.add(layers.Dense(512,activation='relu',input_shape=(28*28,)))"
      ],
      "execution_count": 0,
      "outputs": [
        {
          "output_type": "stream",
          "text": [
            "WARNING:tensorflow:From /usr/local/lib/python3.6/dist-packages/keras/backend/tensorflow_backend.py:66: The name tf.get_default_graph is deprecated. Please use tf.compat.v1.get_default_graph instead.\n",
            "\n",
            "WARNING:tensorflow:From /usr/local/lib/python3.6/dist-packages/keras/backend/tensorflow_backend.py:541: The name tf.placeholder is deprecated. Please use tf.compat.v1.placeholder instead.\n",
            "\n",
            "WARNING:tensorflow:From /usr/local/lib/python3.6/dist-packages/keras/backend/tensorflow_backend.py:4432: The name tf.random_uniform is deprecated. Please use tf.random.uniform instead.\n",
            "\n"
          ],
          "name": "stdout"
        }
      ]
    },
    {
      "cell_type": "code",
      "metadata": {
        "id": "8bmlsQNUPplI",
        "colab_type": "code",
        "colab": {}
      },
      "source": [
        "network.add(layers.Dense(10,activation='softmax'))"
      ],
      "execution_count": 0,
      "outputs": []
    },
    {
      "cell_type": "code",
      "metadata": {
        "id": "kReHoifkSO4E",
        "colab_type": "code",
        "outputId": "cc8b3295-54a2-4468-fa17-2d7def86ed5d",
        "colab": {
          "base_uri": "https://localhost:8080/",
          "height": 105
        }
      },
      "source": [
        "network.compile(loss='categorical_crossentropy',optimizer='rmsprop',metrics=['accuracy'])"
      ],
      "execution_count": 0,
      "outputs": [
        {
          "output_type": "stream",
          "text": [
            "WARNING:tensorflow:From /usr/local/lib/python3.6/dist-packages/keras/optimizers.py:793: The name tf.train.Optimizer is deprecated. Please use tf.compat.v1.train.Optimizer instead.\n",
            "\n",
            "WARNING:tensorflow:From /usr/local/lib/python3.6/dist-packages/keras/backend/tensorflow_backend.py:3576: The name tf.log is deprecated. Please use tf.math.log instead.\n",
            "\n"
          ],
          "name": "stdout"
        }
      ]
    },
    {
      "cell_type": "code",
      "metadata": {
        "id": "cXUGV91FS_YA",
        "colab_type": "code",
        "colab": {}
      },
      "source": [
        ""
      ],
      "execution_count": 0,
      "outputs": []
    },
    {
      "cell_type": "code",
      "metadata": {
        "id": "dghUIWtMhSlw",
        "colab_type": "code",
        "colab": {}
      },
      "source": [
        "from keras.models import Sequential\n",
        "from keras.layers import Dense\n",
        "import numpy"
      ],
      "execution_count": 0,
      "outputs": []
    },
    {
      "cell_type": "code",
      "metadata": {
        "id": "i2HHDugfhknx",
        "colab_type": "code",
        "colab": {}
      },
      "source": [
        "#fix randgg\n",
        "seed=7\n",
        "numpy.random.seed(seed)"
      ],
      "execution_count": 0,
      "outputs": []
    },
    {
      "cell_type": "code",
      "metadata": {
        "id": "7UYYYvPDimCq",
        "colab_type": "code",
        "outputId": "35f6b858-c66e-4a33-d0de-30e532e827da",
        "colab": {
          "base_uri": "https://localhost:8080/",
          "height": 34
        }
      },
      "source": [
        "dataset=numpy.loadtxt(\"pima-indians-diabetes.data\",delimiter=\",\")\n",
        "type(dataset)"
      ],
      "execution_count": 0,
      "outputs": [
        {
          "output_type": "execute_result",
          "data": {
            "text/plain": [
              "numpy.ndarray"
            ]
          },
          "metadata": {
            "tags": []
          },
          "execution_count": 19
        }
      ]
    },
    {
      "cell_type": "code",
      "metadata": {
        "id": "LwSzkY8alHnu",
        "colab_type": "code",
        "colab": {}
      },
      "source": [
        ""
      ],
      "execution_count": 0,
      "outputs": []
    },
    {
      "cell_type": "code",
      "metadata": {
        "id": "WfeyC6x2kbgB",
        "colab_type": "code",
        "outputId": "1dcc322b-b591-47d9-b8ee-b1220329a803",
        "colab": {
          "resources": {
            "http://localhost:8080/nbextensions/google.colab/files.js": {
              "data": "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",
              "ok": true,
              "headers": [
                [
                  "content-type",
                  "application/javascript"
                ]
              ],
              "status": 200,
              "status_text": ""
            }
          },
          "base_uri": "https://localhost:8080/",
          "height": 74
        }
      },
      "source": [
        "from google.colab import files\n",
        "uploaded=files.upload()"
      ],
      "execution_count": 0,
      "outputs": [
        {
          "output_type": "display_data",
          "data": {
            "text/html": [
              "\n",
              "     <input type=\"file\" id=\"files-5554a420-a5df-4e5d-99f6-5b7e324b210c\" name=\"files[]\" multiple disabled />\n",
              "     <output id=\"result-5554a420-a5df-4e5d-99f6-5b7e324b210c\">\n",
              "      Upload widget is only available when the cell has been executed in the\n",
              "      current browser session. Please rerun this cell to enable.\n",
              "      </output>\n",
              "      <script src=\"/nbextensions/google.colab/files.js\"></script> "
            ],
            "text/plain": [
              "<IPython.core.display.HTML object>"
            ]
          },
          "metadata": {
            "tags": []
          }
        },
        {
          "output_type": "stream",
          "text": [
            "Saving pima-indians-diabetes.data to pima-indians-diabetes.data\n"
          ],
          "name": "stdout"
        }
      ]
    },
    {
      "cell_type": "code",
      "metadata": {
        "id": "-W-7Jsp4lI5G",
        "colab_type": "code",
        "colab": {}
      },
      "source": [
        "#Split into input (x) and output(y) vriables\n",
        "x=dataset[:,0:8]\n",
        "y=dataset[:,8]\n"
      ],
      "execution_count": 0,
      "outputs": []
    },
    {
      "cell_type": "code",
      "metadata": {
        "id": "OMn9LwGUsJXx",
        "colab_type": "code",
        "colab": {}
      },
      "source": [
        ""
      ],
      "execution_count": 0,
      "outputs": []
    },
    {
      "cell_type": "code",
      "metadata": {
        "id": "sg0XJDTTmTwo",
        "colab_type": "code",
        "outputId": "87a569a6-616f-4f4a-e669-2fb5c06106de",
        "colab": {
          "base_uri": "https://localhost:8080/",
          "height": 139
        }
      },
      "source": [
        "#creating Model\n",
        "model=Sequential()\n",
        "model.add(Dense(12,input_dim=8,init=\"uniform\",activation='relu'))\n",
        "model.add(Dense(8,init='uniform',activation='relu'))\n",
        "model.add(Dense(1,init='uniform',activation='sigmoid'))\n"
      ],
      "execution_count": 0,
      "outputs": [
        {
          "output_type": "stream",
          "text": [
            "/usr/local/lib/python3.6/dist-packages/ipykernel_launcher.py:2: UserWarning: Update your `Dense` call to the Keras 2 API: `Dense(12, input_dim=8, activation=\"relu\", kernel_initializer=\"uniform\")`\n",
            "  \n",
            "/usr/local/lib/python3.6/dist-packages/ipykernel_launcher.py:3: UserWarning: Update your `Dense` call to the Keras 2 API: `Dense(8, activation=\"relu\", kernel_initializer=\"uniform\")`\n",
            "  This is separate from the ipykernel package so we can avoid doing imports until\n",
            "/usr/local/lib/python3.6/dist-packages/ipykernel_launcher.py:4: UserWarning: Update your `Dense` call to the Keras 2 API: `Dense(1, activation=\"sigmoid\", kernel_initializer=\"uniform\")`\n",
            "  after removing the cwd from sys.path.\n"
          ],
          "name": "stderr"
        }
      ]
    },
    {
      "cell_type": "code",
      "metadata": {
        "id": "xHEmRQ_7oiMs",
        "colab_type": "code",
        "outputId": "b084b2aa-02bc-4bb8-c1d3-400c6346628b",
        "colab": {
          "base_uri": "https://localhost:8080/",
          "height": 88
        }
      },
      "source": [
        "model.compile(loss='binary_crossentropy',optimizer='adam',metrics=['accuracy'])"
      ],
      "execution_count": 0,
      "outputs": [
        {
          "output_type": "stream",
          "text": [
            "WARNING:tensorflow:From /usr/local/lib/python3.6/dist-packages/tensorflow_core/python/ops/nn_impl.py:183: where (from tensorflow.python.ops.array_ops) is deprecated and will be removed in a future version.\n",
            "Instructions for updating:\n",
            "Use tf.where in 2.0, which has the same broadcast rule as np.where\n"
          ],
          "name": "stdout"
        }
      ]
    },
    {
      "cell_type": "code",
      "metadata": {
        "id": "EvI0IY5Zo6IM",
        "colab_type": "code",
        "outputId": "fcc38b6f-155f-444d-dfea-7e4b0d9f4038",
        "colab": {
          "base_uri": "https://localhost:8080/",
          "height": 1000
        }
      },
      "source": [
        "model.fit(x,y,nb_epoch=158,batch_size=10)"
      ],
      "execution_count": 0,
      "outputs": [
        {
          "output_type": "stream",
          "text": [
            "WARNING:tensorflow:From /usr/local/lib/python3.6/dist-packages/keras/backend/tensorflow_backend.py:1033: The name tf.assign_add is deprecated. Please use tf.compat.v1.assign_add instead.\n",
            "\n"
          ],
          "name": "stdout"
        },
        {
          "output_type": "stream",
          "text": [
            "/usr/local/lib/python3.6/dist-packages/ipykernel_launcher.py:1: UserWarning: The `nb_epoch` argument in `fit` has been renamed `epochs`.\n",
            "  \"\"\"Entry point for launching an IPython kernel.\n"
          ],
          "name": "stderr"
        },
        {
          "output_type": "stream",
          "text": [
            "WARNING:tensorflow:From /usr/local/lib/python3.6/dist-packages/keras/backend/tensorflow_backend.py:1020: The name tf.assign is deprecated. Please use tf.compat.v1.assign instead.\n",
            "\n",
            "WARNING:tensorflow:From /usr/local/lib/python3.6/dist-packages/keras/backend/tensorflow_backend.py:3005: The name tf.Session is deprecated. Please use tf.compat.v1.Session instead.\n",
            "\n",
            "Epoch 1/158\n",
            "WARNING:tensorflow:From /usr/local/lib/python3.6/dist-packages/keras/backend/tensorflow_backend.py:190: The name tf.get_default_session is deprecated. Please use tf.compat.v1.get_default_session instead.\n",
            "\n",
            "WARNING:tensorflow:From /usr/local/lib/python3.6/dist-packages/keras/backend/tensorflow_backend.py:197: The name tf.ConfigProto is deprecated. Please use tf.compat.v1.ConfigProto instead.\n",
            "\n",
            "WARNING:tensorflow:From /usr/local/lib/python3.6/dist-packages/keras/backend/tensorflow_backend.py:207: The name tf.global_variables is deprecated. Please use tf.compat.v1.global_variables instead.\n",
            "\n",
            "WARNING:tensorflow:From /usr/local/lib/python3.6/dist-packages/keras/backend/tensorflow_backend.py:216: The name tf.is_variable_initialized is deprecated. Please use tf.compat.v1.is_variable_initialized instead.\n",
            "\n",
            "WARNING:tensorflow:From /usr/local/lib/python3.6/dist-packages/keras/backend/tensorflow_backend.py:223: The name tf.variables_initializer is deprecated. Please use tf.compat.v1.variables_initializer instead.\n",
            "\n",
            "768/768 [==============================] - 1s 1ms/step - loss: 0.6825 - acc: 0.6510\n",
            "Epoch 2/158\n",
            "768/768 [==============================] - 0s 110us/step - loss: 0.6643 - acc: 0.6510\n",
            "Epoch 3/158\n",
            "768/768 [==============================] - 0s 113us/step - loss: 0.6580 - acc: 0.6510\n",
            "Epoch 4/158\n",
            "768/768 [==============================] - 0s 120us/step - loss: 0.6488 - acc: 0.6576\n",
            "Epoch 5/158\n",
            "768/768 [==============================] - 0s 118us/step - loss: 0.6416 - acc: 0.6576\n",
            "Epoch 6/158\n",
            "768/768 [==============================] - 0s 110us/step - loss: 0.6312 - acc: 0.6563\n",
            "Epoch 7/158\n",
            "768/768 [==============================] - 0s 112us/step - loss: 0.6231 - acc: 0.6706\n",
            "Epoch 8/158\n",
            "768/768 [==============================] - 0s 114us/step - loss: 0.6133 - acc: 0.6823\n",
            "Epoch 9/158\n",
            "768/768 [==============================] - 0s 118us/step - loss: 0.6077 - acc: 0.6745\n",
            "Epoch 10/158\n",
            "768/768 [==============================] - 0s 115us/step - loss: 0.5958 - acc: 0.7122\n",
            "Epoch 11/158\n",
            "768/768 [==============================] - 0s 117us/step - loss: 0.5982 - acc: 0.6823\n",
            "Epoch 12/158\n",
            "768/768 [==============================] - 0s 125us/step - loss: 0.5967 - acc: 0.6927\n",
            "Epoch 13/158\n",
            "768/768 [==============================] - 0s 132us/step - loss: 0.5901 - acc: 0.6966\n",
            "Epoch 14/158\n",
            "768/768 [==============================] - 0s 143us/step - loss: 0.5912 - acc: 0.6927\n",
            "Epoch 15/158\n",
            "768/768 [==============================] - 0s 128us/step - loss: 0.5835 - acc: 0.7018\n",
            "Epoch 16/158\n",
            "768/768 [==============================] - 0s 146us/step - loss: 0.5855 - acc: 0.7057\n",
            "Epoch 17/158\n",
            "768/768 [==============================] - 0s 115us/step - loss: 0.5858 - acc: 0.7161\n",
            "Epoch 18/158\n",
            "768/768 [==============================] - 0s 122us/step - loss: 0.5843 - acc: 0.6836\n",
            "Epoch 19/158\n",
            "768/768 [==============================] - 0s 113us/step - loss: 0.5773 - acc: 0.7083\n",
            "Epoch 20/158\n",
            "768/768 [==============================] - 0s 114us/step - loss: 0.5795 - acc: 0.7083\n",
            "Epoch 21/158\n",
            "768/768 [==============================] - 0s 115us/step - loss: 0.5760 - acc: 0.7096\n",
            "Epoch 22/158\n",
            "768/768 [==============================] - 0s 136us/step - loss: 0.5784 - acc: 0.7227\n",
            "Epoch 23/158\n",
            "768/768 [==============================] - 0s 126us/step - loss: 0.5754 - acc: 0.7031\n",
            "Epoch 24/158\n",
            "768/768 [==============================] - 0s 119us/step - loss: 0.5738 - acc: 0.7083\n",
            "Epoch 25/158\n",
            "768/768 [==============================] - 0s 116us/step - loss: 0.5721 - acc: 0.7005\n",
            "Epoch 26/158\n",
            "768/768 [==============================] - 0s 112us/step - loss: 0.5749 - acc: 0.6940\n",
            "Epoch 27/158\n",
            "768/768 [==============================] - 0s 125us/step - loss: 0.5708 - acc: 0.7083\n",
            "Epoch 28/158\n",
            "768/768 [==============================] - 0s 114us/step - loss: 0.5710 - acc: 0.7070\n",
            "Epoch 29/158\n",
            "768/768 [==============================] - 0s 111us/step - loss: 0.5652 - acc: 0.7018\n",
            "Epoch 30/158\n",
            "768/768 [==============================] - 0s 111us/step - loss: 0.5692 - acc: 0.6953\n",
            "Epoch 31/158\n",
            "768/768 [==============================] - 0s 110us/step - loss: 0.5702 - acc: 0.7044\n",
            "Epoch 32/158\n",
            "768/768 [==============================] - 0s 113us/step - loss: 0.5636 - acc: 0.7174\n",
            "Epoch 33/158\n",
            "768/768 [==============================] - 0s 118us/step - loss: 0.5679 - acc: 0.7109\n",
            "Epoch 34/158\n",
            "768/768 [==============================] - 0s 129us/step - loss: 0.5660 - acc: 0.7096\n",
            "Epoch 35/158\n",
            "768/768 [==============================] - 0s 118us/step - loss: 0.5656 - acc: 0.7057\n",
            "Epoch 36/158\n",
            "768/768 [==============================] - 0s 115us/step - loss: 0.5637 - acc: 0.7109\n",
            "Epoch 37/158\n",
            "768/768 [==============================] - 0s 111us/step - loss: 0.5575 - acc: 0.7188\n",
            "Epoch 38/158\n",
            "768/768 [==============================] - 0s 124us/step - loss: 0.5670 - acc: 0.7005\n",
            "Epoch 39/158\n",
            "768/768 [==============================] - 0s 135us/step - loss: 0.5602 - acc: 0.7083\n",
            "Epoch 40/158\n",
            "768/768 [==============================] - 0s 116us/step - loss: 0.5557 - acc: 0.7214\n",
            "Epoch 41/158\n",
            "768/768 [==============================] - 0s 118us/step - loss: 0.5558 - acc: 0.7214\n",
            "Epoch 42/158\n",
            "768/768 [==============================] - 0s 131us/step - loss: 0.5575 - acc: 0.7135\n",
            "Epoch 43/158\n",
            "768/768 [==============================] - 0s 128us/step - loss: 0.5608 - acc: 0.7148\n",
            "Epoch 44/158\n",
            "768/768 [==============================] - 0s 116us/step - loss: 0.5588 - acc: 0.7031\n",
            "Epoch 45/158\n",
            "768/768 [==============================] - 0s 117us/step - loss: 0.5540 - acc: 0.7318\n",
            "Epoch 46/158\n",
            "768/768 [==============================] - 0s 117us/step - loss: 0.5510 - acc: 0.7188\n",
            "Epoch 47/158\n",
            "768/768 [==============================] - 0s 116us/step - loss: 0.5576 - acc: 0.7227\n",
            "Epoch 48/158\n",
            "768/768 [==============================] - 0s 119us/step - loss: 0.5604 - acc: 0.7174\n",
            "Epoch 49/158\n",
            "768/768 [==============================] - 0s 109us/step - loss: 0.5523 - acc: 0.7201\n",
            "Epoch 50/158\n",
            "768/768 [==============================] - 0s 121us/step - loss: 0.5554 - acc: 0.7279\n",
            "Epoch 51/158\n",
            "768/768 [==============================] - 0s 117us/step - loss: 0.5465 - acc: 0.7279\n",
            "Epoch 52/158\n",
            "768/768 [==============================] - 0s 115us/step - loss: 0.5497 - acc: 0.7279\n",
            "Epoch 53/158\n",
            "768/768 [==============================] - 0s 118us/step - loss: 0.5483 - acc: 0.7344\n",
            "Epoch 54/158\n",
            "768/768 [==============================] - 0s 115us/step - loss: 0.5459 - acc: 0.7370\n",
            "Epoch 55/158\n",
            "768/768 [==============================] - 0s 120us/step - loss: 0.5466 - acc: 0.7227\n",
            "Epoch 56/158\n",
            "768/768 [==============================] - 0s 125us/step - loss: 0.5413 - acc: 0.7266\n",
            "Epoch 57/158\n",
            "768/768 [==============================] - 0s 117us/step - loss: 0.5389 - acc: 0.7331\n",
            "Epoch 58/158\n",
            "768/768 [==============================] - 0s 144us/step - loss: 0.5465 - acc: 0.7253\n",
            "Epoch 59/158\n",
            "768/768 [==============================] - 0s 123us/step - loss: 0.5388 - acc: 0.7305\n",
            "Epoch 60/158\n",
            "768/768 [==============================] - 0s 116us/step - loss: 0.5445 - acc: 0.7279\n",
            "Epoch 61/158\n",
            "768/768 [==============================] - 0s 145us/step - loss: 0.5371 - acc: 0.7266\n",
            "Epoch 62/158\n",
            "768/768 [==============================] - 0s 113us/step - loss: 0.5410 - acc: 0.7266\n",
            "Epoch 63/158\n",
            "768/768 [==============================] - 0s 121us/step - loss: 0.5331 - acc: 0.7422\n",
            "Epoch 64/158\n",
            "768/768 [==============================] - 0s 123us/step - loss: 0.5338 - acc: 0.7279\n",
            "Epoch 65/158\n",
            "768/768 [==============================] - 0s 129us/step - loss: 0.5349 - acc: 0.7383\n",
            "Epoch 66/158\n",
            "768/768 [==============================] - 0s 117us/step - loss: 0.5366 - acc: 0.7305\n",
            "Epoch 67/158\n",
            "768/768 [==============================] - 0s 118us/step - loss: 0.5346 - acc: 0.7305\n",
            "Epoch 68/158\n",
            "768/768 [==============================] - 0s 115us/step - loss: 0.5312 - acc: 0.7357\n",
            "Epoch 69/158\n",
            "768/768 [==============================] - 0s 122us/step - loss: 0.5269 - acc: 0.7383\n",
            "Epoch 70/158\n",
            "768/768 [==============================] - 0s 114us/step - loss: 0.5310 - acc: 0.7448\n",
            "Epoch 71/158\n",
            "768/768 [==============================] - 0s 114us/step - loss: 0.5259 - acc: 0.7643\n",
            "Epoch 72/158\n",
            "768/768 [==============================] - 0s 121us/step - loss: 0.5262 - acc: 0.7448\n",
            "Epoch 73/158\n",
            "768/768 [==============================] - 0s 136us/step - loss: 0.5235 - acc: 0.7409\n",
            "Epoch 74/158\n",
            "768/768 [==============================] - 0s 127us/step - loss: 0.5241 - acc: 0.7435\n",
            "Epoch 75/158\n",
            "768/768 [==============================] - 0s 111us/step - loss: 0.5245 - acc: 0.7448\n",
            "Epoch 76/158\n",
            "768/768 [==============================] - 0s 122us/step - loss: 0.5209 - acc: 0.7409\n",
            "Epoch 77/158\n",
            "768/768 [==============================] - 0s 114us/step - loss: 0.5181 - acc: 0.7435\n",
            "Epoch 78/158\n",
            "768/768 [==============================] - 0s 132us/step - loss: 0.5230 - acc: 0.7578\n",
            "Epoch 79/158\n",
            "768/768 [==============================] - 0s 113us/step - loss: 0.5265 - acc: 0.7409\n",
            "Epoch 80/158\n",
            "768/768 [==============================] - 0s 132us/step - loss: 0.5150 - acc: 0.7578\n",
            "Epoch 81/158\n",
            "768/768 [==============================] - 0s 115us/step - loss: 0.5168 - acc: 0.7552\n",
            "Epoch 82/158\n",
            "768/768 [==============================] - 0s 118us/step - loss: 0.5108 - acc: 0.7630\n",
            "Epoch 83/158\n",
            "768/768 [==============================] - 0s 113us/step - loss: 0.5159 - acc: 0.7591\n",
            "Epoch 84/158\n",
            "768/768 [==============================] - 0s 154us/step - loss: 0.5179 - acc: 0.7448\n",
            "Epoch 85/158\n",
            "768/768 [==============================] - 0s 150us/step - loss: 0.5077 - acc: 0.7526\n",
            "Epoch 86/158\n",
            "768/768 [==============================] - 0s 114us/step - loss: 0.5069 - acc: 0.7565\n",
            "Epoch 87/158\n",
            "768/768 [==============================] - 0s 114us/step - loss: 0.5167 - acc: 0.7513\n",
            "Epoch 88/158\n",
            "768/768 [==============================] - 0s 118us/step - loss: 0.5115 - acc: 0.7617\n",
            "Epoch 89/158\n",
            "768/768 [==============================] - 0s 132us/step - loss: 0.5050 - acc: 0.7617\n",
            "Epoch 90/158\n",
            "768/768 [==============================] - 0s 121us/step - loss: 0.5138 - acc: 0.7513\n",
            "Epoch 91/158\n",
            "768/768 [==============================] - 0s 120us/step - loss: 0.5073 - acc: 0.7513\n",
            "Epoch 92/158\n",
            "768/768 [==============================] - 0s 128us/step - loss: 0.5075 - acc: 0.7630\n",
            "Epoch 93/158\n",
            "768/768 [==============================] - 0s 120us/step - loss: 0.5063 - acc: 0.7617\n",
            "Epoch 94/158\n",
            "768/768 [==============================] - 0s 119us/step - loss: 0.5043 - acc: 0.7500\n",
            "Epoch 95/158\n",
            "768/768 [==============================] - 0s 112us/step - loss: 0.5022 - acc: 0.7617\n",
            "Epoch 96/158\n",
            "768/768 [==============================] - 0s 123us/step - loss: 0.4984 - acc: 0.7669\n",
            "Epoch 97/158\n",
            "768/768 [==============================] - 0s 113us/step - loss: 0.4960 - acc: 0.7695\n",
            "Epoch 98/158\n",
            "768/768 [==============================] - 0s 115us/step - loss: 0.5008 - acc: 0.7656\n",
            "Epoch 99/158\n",
            "768/768 [==============================] - 0s 115us/step - loss: 0.4955 - acc: 0.7565\n",
            "Epoch 100/158\n",
            "768/768 [==============================] - 0s 126us/step - loss: 0.4984 - acc: 0.7617\n",
            "Epoch 101/158\n",
            "768/768 [==============================] - 0s 121us/step - loss: 0.4916 - acc: 0.7708\n",
            "Epoch 102/158\n",
            "768/768 [==============================] - 0s 113us/step - loss: 0.4937 - acc: 0.7656\n",
            "Epoch 103/158\n",
            "768/768 [==============================] - 0s 117us/step - loss: 0.4987 - acc: 0.7695\n",
            "Epoch 104/158\n",
            "768/768 [==============================] - 0s 113us/step - loss: 0.4950 - acc: 0.7656\n",
            "Epoch 105/158\n",
            "768/768 [==============================] - 0s 115us/step - loss: 0.4893 - acc: 0.7682\n",
            "Epoch 106/158\n",
            "768/768 [==============================] - 0s 132us/step - loss: 0.4874 - acc: 0.7656\n",
            "Epoch 107/158\n",
            "768/768 [==============================] - 0s 122us/step - loss: 0.4888 - acc: 0.7643\n",
            "Epoch 108/158\n",
            "768/768 [==============================] - 0s 122us/step - loss: 0.4922 - acc: 0.7565\n",
            "Epoch 109/158\n",
            "768/768 [==============================] - 0s 128us/step - loss: 0.4882 - acc: 0.7734\n",
            "Epoch 110/158\n",
            "768/768 [==============================] - 0s 111us/step - loss: 0.4862 - acc: 0.7773\n",
            "Epoch 111/158\n",
            "768/768 [==============================] - 0s 113us/step - loss: 0.4815 - acc: 0.7695\n",
            "Epoch 112/158\n",
            "768/768 [==============================] - 0s 132us/step - loss: 0.4968 - acc: 0.7656\n",
            "Epoch 113/158\n",
            "768/768 [==============================] - 0s 127us/step - loss: 0.4846 - acc: 0.7721\n",
            "Epoch 114/158\n",
            "768/768 [==============================] - 0s 116us/step - loss: 0.4838 - acc: 0.7669\n",
            "Epoch 115/158\n",
            "768/768 [==============================] - 0s 111us/step - loss: 0.4843 - acc: 0.7695\n",
            "Epoch 116/158\n",
            "768/768 [==============================] - 0s 113us/step - loss: 0.4767 - acc: 0.7734\n",
            "Epoch 117/158\n",
            "768/768 [==============================] - 0s 119us/step - loss: 0.4885 - acc: 0.7747\n",
            "Epoch 118/158\n",
            "768/768 [==============================] - 0s 116us/step - loss: 0.4809 - acc: 0.7786\n",
            "Epoch 119/158\n",
            "768/768 [==============================] - 0s 115us/step - loss: 0.4779 - acc: 0.7747\n",
            "Epoch 120/158\n",
            "768/768 [==============================] - 0s 117us/step - loss: 0.4753 - acc: 0.7708\n",
            "Epoch 121/158\n",
            "768/768 [==============================] - 0s 118us/step - loss: 0.4759 - acc: 0.7708\n",
            "Epoch 122/158\n",
            "768/768 [==============================] - 0s 111us/step - loss: 0.4719 - acc: 0.7773\n",
            "Epoch 123/158\n",
            "768/768 [==============================] - 0s 120us/step - loss: 0.4700 - acc: 0.7878\n",
            "Epoch 124/158\n",
            "768/768 [==============================] - 0s 119us/step - loss: 0.4719 - acc: 0.7786\n",
            "Epoch 125/158\n",
            "768/768 [==============================] - 0s 113us/step - loss: 0.4753 - acc: 0.7799\n",
            "Epoch 126/158\n",
            "768/768 [==============================] - 0s 126us/step - loss: 0.4746 - acc: 0.7786\n",
            "Epoch 127/158\n",
            "768/768 [==============================] - 0s 116us/step - loss: 0.4735 - acc: 0.7799\n",
            "Epoch 128/158\n",
            "768/768 [==============================] - 0s 112us/step - loss: 0.4743 - acc: 0.7721\n",
            "Epoch 129/158\n",
            "768/768 [==============================] - 0s 126us/step - loss: 0.4702 - acc: 0.7773\n",
            "Epoch 130/158\n",
            "768/768 [==============================] - 0s 121us/step - loss: 0.4700 - acc: 0.7734\n",
            "Epoch 131/158\n",
            "768/768 [==============================] - 0s 120us/step - loss: 0.4730 - acc: 0.7812\n",
            "Epoch 132/158\n",
            "768/768 [==============================] - 0s 113us/step - loss: 0.4805 - acc: 0.7734\n",
            "Epoch 133/158\n",
            "768/768 [==============================] - 0s 116us/step - loss: 0.4763 - acc: 0.7799\n",
            "Epoch 134/158\n",
            "768/768 [==============================] - 0s 112us/step - loss: 0.4785 - acc: 0.7747\n",
            "Epoch 135/158\n",
            "768/768 [==============================] - 0s 114us/step - loss: 0.4765 - acc: 0.7695\n",
            "Epoch 136/158\n",
            "768/768 [==============================] - 0s 117us/step - loss: 0.4658 - acc: 0.7734\n",
            "Epoch 137/158\n",
            "768/768 [==============================] - 0s 112us/step - loss: 0.4683 - acc: 0.7747\n",
            "Epoch 138/158\n",
            "768/768 [==============================] - 0s 116us/step - loss: 0.4686 - acc: 0.7721\n",
            "Epoch 139/158\n",
            "768/768 [==============================] - 0s 116us/step - loss: 0.4684 - acc: 0.7865\n",
            "Epoch 140/158\n",
            "768/768 [==============================] - 0s 117us/step - loss: 0.4661 - acc: 0.7865\n",
            "Epoch 141/158\n",
            "768/768 [==============================] - 0s 119us/step - loss: 0.4621 - acc: 0.7852\n",
            "Epoch 142/158\n",
            "768/768 [==============================] - 0s 115us/step - loss: 0.4713 - acc: 0.7904\n",
            "Epoch 143/158\n",
            "768/768 [==============================] - 0s 115us/step - loss: 0.4592 - acc: 0.7930\n",
            "Epoch 144/158\n",
            "768/768 [==============================] - 0s 110us/step - loss: 0.4669 - acc: 0.7786\n",
            "Epoch 145/158\n",
            "768/768 [==============================] - 0s 118us/step - loss: 0.4698 - acc: 0.7852\n",
            "Epoch 146/158\n",
            "768/768 [==============================] - 0s 125us/step - loss: 0.4647 - acc: 0.7812\n",
            "Epoch 147/158\n",
            "768/768 [==============================] - 0s 119us/step - loss: 0.4609 - acc: 0.7878\n",
            "Epoch 148/158\n",
            "768/768 [==============================] - 0s 130us/step - loss: 0.4612 - acc: 0.7839\n",
            "Epoch 149/158\n",
            "768/768 [==============================] - 0s 117us/step - loss: 0.4686 - acc: 0.7852\n",
            "Epoch 150/158\n",
            "768/768 [==============================] - 0s 120us/step - loss: 0.4583 - acc: 0.7799\n",
            "Epoch 151/158\n",
            "768/768 [==============================] - 0s 115us/step - loss: 0.4636 - acc: 0.7904\n",
            "Epoch 152/158\n",
            "768/768 [==============================] - 0s 119us/step - loss: 0.4657 - acc: 0.7799\n",
            "Epoch 153/158\n",
            "768/768 [==============================] - 0s 116us/step - loss: 0.4609 - acc: 0.7930\n",
            "Epoch 154/158\n",
            "768/768 [==============================] - 0s 112us/step - loss: 0.4512 - acc: 0.7813\n",
            "Epoch 155/158\n",
            "768/768 [==============================] - 0s 115us/step - loss: 0.4522 - acc: 0.7878\n",
            "Epoch 156/158\n",
            "768/768 [==============================] - 0s 116us/step - loss: 0.4630 - acc: 0.7695\n",
            "Epoch 157/158\n",
            "768/768 [==============================] - 0s 113us/step - loss: 0.4509 - acc: 0.7930\n",
            "Epoch 158/158\n",
            "768/768 [==============================] - 0s 122us/step - loss: 0.4554 - acc: 0.7734\n"
          ],
          "name": "stdout"
        },
        {
          "output_type": "execute_result",
          "data": {
            "text/plain": [
              "<keras.callbacks.History at 0x7f2a8a427ef0>"
            ]
          },
          "metadata": {
            "tags": []
          },
          "execution_count": 31
        }
      ]
    },
    {
      "cell_type": "code",
      "metadata": {
        "id": "rQnqU5AMpi49",
        "colab_type": "code",
        "outputId": "cee7b68b-c171-405e-a0e8-23066a65c040",
        "colab": {
          "base_uri": "https://localhost:8080/",
          "height": 34
        }
      },
      "source": [
        "scores=model.evaluate(x,y)\n",
        "print(\"%s:%.2f%%\")\n"
      ],
      "execution_count": 0,
      "outputs": [
        {
          "output_type": "stream",
          "text": [
            "768/768 [==============================] - 0s 32us/step\n"
          ],
          "name": "stdout"
        }
      ]
    },
    {
      "cell_type": "code",
      "metadata": {
        "id": "nOnIlIq2qs-f",
        "colab_type": "code",
        "outputId": "18ecea7c-1171-4f32-a20d-9e42770ed059",
        "colab": {
          "base_uri": "https://localhost:8080/",
          "height": 1000
        }
      },
      "source": [
        "model.fit(x,y,validation_split=0.33,nb_epoch=150,batch_size=10)"
      ],
      "execution_count": 0,
      "outputs": [
        {
          "output_type": "stream",
          "text": [
            "Train on 514 samples, validate on 254 samples\n",
            "Epoch 1/150\n",
            "514/514 [==============================] - 0s 183us/step - loss: 0.4172 - acc: 0.8113 - val_loss: 0.5322 - val_acc: 0.8110\n",
            "Epoch 2/150\n",
            "514/514 [==============================] - 0s 159us/step - loss: 0.4240 - acc: 0.8093 - val_loss: 0.5154 - val_acc: 0.7953\n",
            "Epoch 3/150\n",
            " 10/514 [..............................] - ETA: 0s - loss: 0.4170 - acc: 0.8000"
          ],
          "name": "stdout"
        },
        {
          "output_type": "stream",
          "text": [
            "/usr/local/lib/python3.6/dist-packages/ipykernel_launcher.py:1: UserWarning: The `nb_epoch` argument in `fit` has been renamed `epochs`.\n",
            "  \"\"\"Entry point for launching an IPython kernel.\n"
          ],
          "name": "stderr"
        },
        {
          "output_type": "stream",
          "text": [
            "514/514 [==============================] - 0s 162us/step - loss: 0.4225 - acc: 0.8054 - val_loss: 0.5135 - val_acc: 0.7835\n",
            "Epoch 4/150\n",
            "514/514 [==============================] - 0s 155us/step - loss: 0.4133 - acc: 0.8113 - val_loss: 0.5106 - val_acc: 0.7913\n",
            "Epoch 5/150\n",
            "514/514 [==============================] - 0s 153us/step - loss: 0.4246 - acc: 0.8035 - val_loss: 0.5174 - val_acc: 0.7992\n",
            "Epoch 6/150\n",
            "514/514 [==============================] - 0s 156us/step - loss: 0.4220 - acc: 0.8035 - val_loss: 0.5056 - val_acc: 0.8110\n",
            "Epoch 7/150\n",
            "514/514 [==============================] - 0s 154us/step - loss: 0.4121 - acc: 0.7996 - val_loss: 0.5083 - val_acc: 0.8110\n",
            "Epoch 8/150\n",
            "514/514 [==============================] - 0s 168us/step - loss: 0.4118 - acc: 0.8074 - val_loss: 0.4914 - val_acc: 0.8189\n",
            "Epoch 9/150\n",
            "514/514 [==============================] - 0s 182us/step - loss: 0.4270 - acc: 0.8113 - val_loss: 0.4991 - val_acc: 0.8071\n",
            "Epoch 10/150\n",
            "514/514 [==============================] - 0s 165us/step - loss: 0.4209 - acc: 0.8074 - val_loss: 0.4969 - val_acc: 0.8150\n",
            "Epoch 11/150\n",
            "514/514 [==============================] - 0s 181us/step - loss: 0.4105 - acc: 0.8074 - val_loss: 0.5029 - val_acc: 0.8150\n",
            "Epoch 12/150\n",
            "514/514 [==============================] - 0s 157us/step - loss: 0.4096 - acc: 0.8171 - val_loss: 0.5095 - val_acc: 0.7992\n",
            "Epoch 13/150\n",
            "514/514 [==============================] - 0s 150us/step - loss: 0.4155 - acc: 0.8016 - val_loss: 0.4998 - val_acc: 0.7874\n",
            "Epoch 14/150\n",
            "514/514 [==============================] - 0s 152us/step - loss: 0.4145 - acc: 0.8113 - val_loss: 0.5172 - val_acc: 0.8189\n",
            "Epoch 15/150\n",
            "514/514 [==============================] - 0s 161us/step - loss: 0.4099 - acc: 0.8016 - val_loss: 0.5082 - val_acc: 0.8071\n",
            "Epoch 16/150\n",
            "514/514 [==============================] - 0s 173us/step - loss: 0.4129 - acc: 0.8035 - val_loss: 0.5013 - val_acc: 0.7992\n",
            "Epoch 17/150\n",
            "514/514 [==============================] - 0s 175us/step - loss: 0.4133 - acc: 0.8093 - val_loss: 0.5102 - val_acc: 0.8228\n",
            "Epoch 18/150\n",
            "514/514 [==============================] - 0s 159us/step - loss: 0.4125 - acc: 0.8074 - val_loss: 0.4984 - val_acc: 0.8228\n",
            "Epoch 19/150\n",
            "514/514 [==============================] - 0s 156us/step - loss: 0.4259 - acc: 0.8054 - val_loss: 0.5307 - val_acc: 0.8071\n",
            "Epoch 20/150\n",
            "514/514 [==============================] - 0s 154us/step - loss: 0.4081 - acc: 0.8074 - val_loss: 0.5337 - val_acc: 0.8071\n",
            "Epoch 21/150\n",
            "514/514 [==============================] - 0s 152us/step - loss: 0.4349 - acc: 0.7860 - val_loss: 0.5461 - val_acc: 0.7913\n",
            "Epoch 22/150\n",
            "514/514 [==============================] - 0s 158us/step - loss: 0.4203 - acc: 0.7996 - val_loss: 0.4999 - val_acc: 0.8150\n",
            "Epoch 23/150\n",
            "514/514 [==============================] - 0s 160us/step - loss: 0.4219 - acc: 0.7957 - val_loss: 0.4943 - val_acc: 0.7835\n",
            "Epoch 24/150\n",
            "514/514 [==============================] - 0s 159us/step - loss: 0.4184 - acc: 0.7977 - val_loss: 0.5018 - val_acc: 0.8189\n",
            "Epoch 25/150\n",
            "514/514 [==============================] - 0s 156us/step - loss: 0.4081 - acc: 0.8016 - val_loss: 0.5100 - val_acc: 0.8189\n",
            "Epoch 26/150\n",
            "514/514 [==============================] - 0s 153us/step - loss: 0.4193 - acc: 0.8074 - val_loss: 0.5148 - val_acc: 0.7953\n",
            "Epoch 27/150\n",
            "514/514 [==============================] - 0s 151us/step - loss: 0.4111 - acc: 0.8191 - val_loss: 0.5193 - val_acc: 0.8150\n",
            "Epoch 28/150\n",
            "514/514 [==============================] - 0s 156us/step - loss: 0.4147 - acc: 0.8074 - val_loss: 0.5098 - val_acc: 0.8071\n",
            "Epoch 29/150\n",
            "514/514 [==============================] - 0s 161us/step - loss: 0.4126 - acc: 0.8113 - val_loss: 0.5090 - val_acc: 0.8110\n",
            "Epoch 30/150\n",
            "514/514 [==============================] - 0s 187us/step - loss: 0.4158 - acc: 0.8191 - val_loss: 0.5284 - val_acc: 0.8110\n",
            "Epoch 31/150\n",
            "514/514 [==============================] - 0s 183us/step - loss: 0.4033 - acc: 0.8132 - val_loss: 0.5926 - val_acc: 0.7677\n",
            "Epoch 32/150\n",
            "514/514 [==============================] - 0s 174us/step - loss: 0.4268 - acc: 0.7977 - val_loss: 0.5050 - val_acc: 0.7992\n",
            "Epoch 33/150\n",
            "514/514 [==============================] - 0s 157us/step - loss: 0.4047 - acc: 0.8035 - val_loss: 0.4989 - val_acc: 0.7756\n",
            "Epoch 34/150\n",
            "514/514 [==============================] - 0s 158us/step - loss: 0.4193 - acc: 0.7938 - val_loss: 0.4908 - val_acc: 0.8150\n",
            "Epoch 35/150\n",
            "514/514 [==============================] - 0s 164us/step - loss: 0.4110 - acc: 0.8074 - val_loss: 0.5073 - val_acc: 0.8189\n",
            "Epoch 36/150\n",
            "514/514 [==============================] - 0s 177us/step - loss: 0.4079 - acc: 0.8191 - val_loss: 0.5121 - val_acc: 0.8110\n",
            "Epoch 37/150\n",
            "514/514 [==============================] - 0s 162us/step - loss: 0.4140 - acc: 0.8093 - val_loss: 0.5192 - val_acc: 0.8110\n",
            "Epoch 38/150\n",
            "514/514 [==============================] - 0s 177us/step - loss: 0.4147 - acc: 0.8035 - val_loss: 0.5033 - val_acc: 0.8110\n",
            "Epoch 39/150\n",
            "514/514 [==============================] - 0s 153us/step - loss: 0.4273 - acc: 0.8093 - val_loss: 0.5020 - val_acc: 0.7953\n",
            "Epoch 40/150\n",
            "514/514 [==============================] - 0s 147us/step - loss: 0.4092 - acc: 0.8054 - val_loss: 0.4965 - val_acc: 0.8110\n",
            "Epoch 41/150\n",
            "514/514 [==============================] - 0s 152us/step - loss: 0.4128 - acc: 0.8152 - val_loss: 0.5213 - val_acc: 0.8071\n",
            "Epoch 42/150\n",
            "514/514 [==============================] - 0s 153us/step - loss: 0.4162 - acc: 0.8191 - val_loss: 0.5032 - val_acc: 0.8150\n",
            "Epoch 43/150\n",
            "514/514 [==============================] - 0s 148us/step - loss: 0.4094 - acc: 0.8074 - val_loss: 0.5335 - val_acc: 0.8189\n",
            "Epoch 44/150\n",
            "514/514 [==============================] - 0s 163us/step - loss: 0.4163 - acc: 0.8152 - val_loss: 0.5410 - val_acc: 0.8071\n",
            "Epoch 45/150\n",
            "514/514 [==============================] - 0s 184us/step - loss: 0.4070 - acc: 0.8113 - val_loss: 0.5159 - val_acc: 0.8150\n",
            "Epoch 46/150\n",
            "514/514 [==============================] - 0s 157us/step - loss: 0.4081 - acc: 0.8152 - val_loss: 0.5486 - val_acc: 0.7874\n",
            "Epoch 47/150\n",
            "514/514 [==============================] - 0s 162us/step - loss: 0.4137 - acc: 0.8132 - val_loss: 0.5044 - val_acc: 0.8110\n",
            "Epoch 48/150\n",
            "514/514 [==============================] - 0s 178us/step - loss: 0.4114 - acc: 0.7957 - val_loss: 0.5081 - val_acc: 0.8031\n",
            "Epoch 49/150\n",
            "514/514 [==============================] - 0s 169us/step - loss: 0.4113 - acc: 0.8152 - val_loss: 0.5101 - val_acc: 0.7992\n",
            "Epoch 50/150\n",
            "514/514 [==============================] - 0s 157us/step - loss: 0.4181 - acc: 0.8171 - val_loss: 0.5017 - val_acc: 0.8268\n",
            "Epoch 51/150\n",
            "514/514 [==============================] - 0s 177us/step - loss: 0.4207 - acc: 0.8093 - val_loss: 0.5092 - val_acc: 0.7953\n",
            "Epoch 52/150\n",
            "514/514 [==============================] - 0s 162us/step - loss: 0.4127 - acc: 0.8093 - val_loss: 0.4946 - val_acc: 0.8031\n",
            "Epoch 53/150\n",
            "514/514 [==============================] - 0s 155us/step - loss: 0.4158 - acc: 0.8054 - val_loss: 0.5319 - val_acc: 0.7717\n",
            "Epoch 54/150\n",
            "514/514 [==============================] - 0s 156us/step - loss: 0.4133 - acc: 0.8113 - val_loss: 0.4928 - val_acc: 0.8071\n",
            "Epoch 55/150\n",
            "514/514 [==============================] - 0s 156us/step - loss: 0.4105 - acc: 0.7879 - val_loss: 0.5149 - val_acc: 0.7913\n",
            "Epoch 56/150\n",
            "514/514 [==============================] - 0s 154us/step - loss: 0.4047 - acc: 0.8249 - val_loss: 0.5448 - val_acc: 0.8150\n",
            "Epoch 57/150\n",
            "514/514 [==============================] - 0s 159us/step - loss: 0.4121 - acc: 0.8113 - val_loss: 0.5171 - val_acc: 0.8110\n",
            "Epoch 58/150\n",
            "514/514 [==============================] - 0s 149us/step - loss: 0.4144 - acc: 0.7996 - val_loss: 0.5229 - val_acc: 0.7835\n",
            "Epoch 59/150\n",
            "514/514 [==============================] - 0s 154us/step - loss: 0.4089 - acc: 0.8016 - val_loss: 0.5088 - val_acc: 0.8110\n",
            "Epoch 60/150\n",
            "514/514 [==============================] - 0s 150us/step - loss: 0.4216 - acc: 0.8171 - val_loss: 0.4923 - val_acc: 0.8071\n",
            "Epoch 61/150\n",
            "514/514 [==============================] - 0s 153us/step - loss: 0.4149 - acc: 0.8113 - val_loss: 0.4938 - val_acc: 0.8110\n",
            "Epoch 62/150\n",
            "514/514 [==============================] - 0s 156us/step - loss: 0.4087 - acc: 0.8132 - val_loss: 0.5612 - val_acc: 0.7913\n",
            "Epoch 63/150\n",
            "514/514 [==============================] - 0s 152us/step - loss: 0.4584 - acc: 0.7821 - val_loss: 0.4776 - val_acc: 0.8268\n",
            "Epoch 64/150\n",
            "514/514 [==============================] - 0s 153us/step - loss: 0.4276 - acc: 0.7938 - val_loss: 0.4941 - val_acc: 0.8110\n",
            "Epoch 65/150\n",
            "514/514 [==============================] - 0s 154us/step - loss: 0.4008 - acc: 0.8152 - val_loss: 0.4871 - val_acc: 0.8071\n",
            "Epoch 66/150\n",
            "514/514 [==============================] - 0s 156us/step - loss: 0.4276 - acc: 0.8016 - val_loss: 0.5100 - val_acc: 0.8110\n",
            "Epoch 67/150\n",
            "514/514 [==============================] - 0s 155us/step - loss: 0.4182 - acc: 0.7996 - val_loss: 0.5217 - val_acc: 0.7874\n",
            "Epoch 68/150\n",
            "514/514 [==============================] - 0s 182us/step - loss: 0.4102 - acc: 0.7996 - val_loss: 0.5160 - val_acc: 0.8110\n",
            "Epoch 69/150\n",
            "514/514 [==============================] - 0s 150us/step - loss: 0.4224 - acc: 0.7957 - val_loss: 0.5371 - val_acc: 0.7835\n",
            "Epoch 70/150\n",
            "514/514 [==============================] - 0s 187us/step - loss: 0.4038 - acc: 0.8093 - val_loss: 0.5183 - val_acc: 0.8110\n",
            "Epoch 71/150\n",
            "514/514 [==============================] - 0s 156us/step - loss: 0.4210 - acc: 0.8016 - val_loss: 0.4990 - val_acc: 0.8071\n",
            "Epoch 72/150\n",
            "514/514 [==============================] - 0s 152us/step - loss: 0.4169 - acc: 0.8074 - val_loss: 0.5142 - val_acc: 0.8031\n",
            "Epoch 73/150\n",
            "514/514 [==============================] - 0s 160us/step - loss: 0.4048 - acc: 0.8093 - val_loss: 0.5088 - val_acc: 0.8031\n",
            "Epoch 74/150\n",
            "514/514 [==============================] - 0s 177us/step - loss: 0.4159 - acc: 0.8113 - val_loss: 0.5089 - val_acc: 0.8150\n",
            "Epoch 75/150\n",
            "514/514 [==============================] - 0s 175us/step - loss: 0.4036 - acc: 0.7996 - val_loss: 0.5341 - val_acc: 0.7953\n",
            "Epoch 76/150\n",
            "514/514 [==============================] - 0s 152us/step - loss: 0.4047 - acc: 0.8132 - val_loss: 0.5344 - val_acc: 0.8150\n",
            "Epoch 77/150\n",
            "514/514 [==============================] - 0s 152us/step - loss: 0.4328 - acc: 0.7957 - val_loss: 0.5459 - val_acc: 0.8031\n",
            "Epoch 78/150\n",
            "514/514 [==============================] - 0s 150us/step - loss: 0.4185 - acc: 0.8113 - val_loss: 0.5682 - val_acc: 0.7913\n",
            "Epoch 79/150\n",
            "514/514 [==============================] - 0s 153us/step - loss: 0.4093 - acc: 0.8016 - val_loss: 0.5031 - val_acc: 0.8110\n",
            "Epoch 80/150\n",
            "514/514 [==============================] - 0s 173us/step - loss: 0.4048 - acc: 0.8132 - val_loss: 0.5086 - val_acc: 0.8150\n",
            "Epoch 81/150\n",
            "514/514 [==============================] - 0s 152us/step - loss: 0.4095 - acc: 0.8132 - val_loss: 0.5365 - val_acc: 0.7874\n",
            "Epoch 82/150\n",
            "514/514 [==============================] - 0s 165us/step - loss: 0.4130 - acc: 0.8093 - val_loss: 0.5120 - val_acc: 0.8071\n",
            "Epoch 83/150\n",
            "514/514 [==============================] - 0s 152us/step - loss: 0.4129 - acc: 0.7977 - val_loss: 0.5090 - val_acc: 0.8031\n",
            "Epoch 84/150\n",
            "514/514 [==============================] - 0s 200us/step - loss: 0.4142 - acc: 0.8093 - val_loss: 0.5218 - val_acc: 0.8071\n",
            "Epoch 85/150\n",
            "514/514 [==============================] - 0s 178us/step - loss: 0.4077 - acc: 0.8054 - val_loss: 0.5454 - val_acc: 0.8071\n",
            "Epoch 86/150\n",
            "514/514 [==============================] - 0s 201us/step - loss: 0.4072 - acc: 0.8074 - val_loss: 0.5536 - val_acc: 0.8071\n",
            "Epoch 87/150\n",
            "514/514 [==============================] - 0s 167us/step - loss: 0.4264 - acc: 0.7977 - val_loss: 0.5148 - val_acc: 0.7913\n",
            "Epoch 88/150\n",
            "514/514 [==============================] - 0s 157us/step - loss: 0.4131 - acc: 0.8093 - val_loss: 0.5267 - val_acc: 0.8150\n",
            "Epoch 89/150\n",
            "514/514 [==============================] - 0s 157us/step - loss: 0.4129 - acc: 0.8113 - val_loss: 0.5255 - val_acc: 0.8071\n",
            "Epoch 90/150\n",
            "514/514 [==============================] - 0s 160us/step - loss: 0.4078 - acc: 0.8074 - val_loss: 0.5216 - val_acc: 0.8189\n",
            "Epoch 91/150\n",
            "514/514 [==============================] - 0s 151us/step - loss: 0.4023 - acc: 0.8346 - val_loss: 0.5264 - val_acc: 0.8031\n",
            "Epoch 92/150\n",
            "514/514 [==============================] - 0s 167us/step - loss: 0.4012 - acc: 0.8230 - val_loss: 0.5120 - val_acc: 0.8031\n",
            "Epoch 93/150\n",
            "514/514 [==============================] - 0s 177us/step - loss: 0.4065 - acc: 0.8113 - val_loss: 0.5129 - val_acc: 0.8031\n",
            "Epoch 94/150\n",
            "514/514 [==============================] - 0s 153us/step - loss: 0.4027 - acc: 0.8268 - val_loss: 0.5281 - val_acc: 0.8268\n",
            "Epoch 95/150\n",
            "514/514 [==============================] - 0s 176us/step - loss: 0.4052 - acc: 0.8249 - val_loss: 0.5391 - val_acc: 0.8031\n",
            "Epoch 96/150\n",
            "514/514 [==============================] - 0s 156us/step - loss: 0.4027 - acc: 0.8191 - val_loss: 0.5185 - val_acc: 0.7835\n",
            "Epoch 97/150\n",
            "514/514 [==============================] - 0s 149us/step - loss: 0.4059 - acc: 0.8074 - val_loss: 0.5062 - val_acc: 0.7795\n",
            "Epoch 98/150\n",
            "514/514 [==============================] - 0s 155us/step - loss: 0.4015 - acc: 0.8132 - val_loss: 0.4959 - val_acc: 0.8071\n",
            "Epoch 99/150\n",
            "514/514 [==============================] - 0s 153us/step - loss: 0.3986 - acc: 0.8113 - val_loss: 0.5421 - val_acc: 0.7756\n",
            "Epoch 100/150\n",
            "514/514 [==============================] - 0s 157us/step - loss: 0.4141 - acc: 0.8132 - val_loss: 0.5185 - val_acc: 0.7992\n",
            "Epoch 101/150\n",
            "514/514 [==============================] - 0s 161us/step - loss: 0.4195 - acc: 0.8113 - val_loss: 0.4973 - val_acc: 0.7874\n",
            "Epoch 102/150\n",
            "514/514 [==============================] - 0s 166us/step - loss: 0.4146 - acc: 0.8230 - val_loss: 0.5009 - val_acc: 0.8110\n",
            "Epoch 103/150\n",
            "514/514 [==============================] - 0s 151us/step - loss: 0.4180 - acc: 0.7899 - val_loss: 0.4987 - val_acc: 0.8031\n",
            "Epoch 104/150\n",
            "514/514 [==============================] - 0s 160us/step - loss: 0.4180 - acc: 0.8035 - val_loss: 0.5720 - val_acc: 0.7677\n",
            "Epoch 105/150\n",
            "514/514 [==============================] - 0s 157us/step - loss: 0.4052 - acc: 0.8093 - val_loss: 0.4964 - val_acc: 0.8031\n",
            "Epoch 106/150\n",
            "514/514 [==============================] - 0s 154us/step - loss: 0.4010 - acc: 0.8132 - val_loss: 0.5126 - val_acc: 0.8110\n",
            "Epoch 107/150\n",
            "514/514 [==============================] - 0s 151us/step - loss: 0.4119 - acc: 0.8074 - val_loss: 0.5334 - val_acc: 0.7913\n",
            "Epoch 108/150\n",
            "514/514 [==============================] - 0s 177us/step - loss: 0.4094 - acc: 0.8152 - val_loss: 0.5648 - val_acc: 0.7835\n",
            "Epoch 109/150\n",
            "514/514 [==============================] - 0s 170us/step - loss: 0.4218 - acc: 0.7899 - val_loss: 0.5403 - val_acc: 0.8110\n",
            "Epoch 110/150\n",
            "514/514 [==============================] - 0s 182us/step - loss: 0.4117 - acc: 0.8230 - val_loss: 0.5302 - val_acc: 0.8228\n",
            "Epoch 111/150\n",
            "514/514 [==============================] - 0s 176us/step - loss: 0.4074 - acc: 0.8191 - val_loss: 0.5206 - val_acc: 0.8031\n",
            "Epoch 112/150\n",
            "514/514 [==============================] - 0s 191us/step - loss: 0.3994 - acc: 0.8191 - val_loss: 0.5228 - val_acc: 0.7717\n",
            "Epoch 113/150\n",
            "514/514 [==============================] - 0s 160us/step - loss: 0.4055 - acc: 0.8113 - val_loss: 0.5461 - val_acc: 0.8110\n",
            "Epoch 114/150\n",
            "514/514 [==============================] - 0s 159us/step - loss: 0.4238 - acc: 0.7957 - val_loss: 0.5038 - val_acc: 0.8071\n",
            "Epoch 115/150\n",
            "514/514 [==============================] - 0s 167us/step - loss: 0.4275 - acc: 0.8113 - val_loss: 0.5116 - val_acc: 0.8110\n",
            "Epoch 116/150\n",
            "514/514 [==============================] - 0s 155us/step - loss: 0.4082 - acc: 0.8249 - val_loss: 0.5009 - val_acc: 0.8150\n",
            "Epoch 117/150\n",
            "514/514 [==============================] - 0s 162us/step - loss: 0.4122 - acc: 0.8210 - val_loss: 0.5270 - val_acc: 0.7992\n",
            "Epoch 118/150\n",
            "514/514 [==============================] - 0s 158us/step - loss: 0.4300 - acc: 0.8093 - val_loss: 0.5368 - val_acc: 0.7717\n",
            "Epoch 119/150\n",
            "514/514 [==============================] - 0s 159us/step - loss: 0.4182 - acc: 0.8152 - val_loss: 0.5123 - val_acc: 0.7992\n",
            "Epoch 120/150\n",
            "514/514 [==============================] - 0s 153us/step - loss: 0.4048 - acc: 0.8074 - val_loss: 0.5185 - val_acc: 0.7874\n",
            "Epoch 121/150\n",
            "514/514 [==============================] - 0s 150us/step - loss: 0.4133 - acc: 0.8074 - val_loss: 0.4976 - val_acc: 0.7992\n",
            "Epoch 122/150\n",
            "514/514 [==============================] - 0s 157us/step - loss: 0.4061 - acc: 0.8093 - val_loss: 0.5471 - val_acc: 0.7953\n",
            "Epoch 123/150\n",
            "514/514 [==============================] - 0s 161us/step - loss: 0.4016 - acc: 0.8132 - val_loss: 0.5153 - val_acc: 0.7992\n",
            "Epoch 124/150\n",
            "514/514 [==============================] - 0s 192us/step - loss: 0.4112 - acc: 0.8074 - val_loss: 0.5246 - val_acc: 0.7874\n",
            "Epoch 125/150\n",
            "514/514 [==============================] - 0s 154us/step - loss: 0.3966 - acc: 0.8210 - val_loss: 0.5405 - val_acc: 0.7992\n",
            "Epoch 126/150\n",
            "514/514 [==============================] - 0s 155us/step - loss: 0.4107 - acc: 0.8210 - val_loss: 0.5187 - val_acc: 0.7992\n",
            "Epoch 127/150\n",
            "514/514 [==============================] - 0s 151us/step - loss: 0.3989 - acc: 0.8152 - val_loss: 0.5380 - val_acc: 0.8031\n",
            "Epoch 128/150\n",
            "514/514 [==============================] - 0s 145us/step - loss: 0.4102 - acc: 0.8132 - val_loss: 0.5046 - val_acc: 0.7992\n",
            "Epoch 129/150\n",
            "514/514 [==============================] - 0s 153us/step - loss: 0.4042 - acc: 0.8113 - val_loss: 0.5299 - val_acc: 0.7835\n",
            "Epoch 130/150\n",
            "514/514 [==============================] - 0s 182us/step - loss: 0.4073 - acc: 0.8152 - val_loss: 0.5183 - val_acc: 0.8071\n",
            "Epoch 131/150\n",
            "514/514 [==============================] - 0s 165us/step - loss: 0.4076 - acc: 0.8035 - val_loss: 0.5416 - val_acc: 0.8150\n",
            "Epoch 132/150\n",
            "514/514 [==============================] - 0s 179us/step - loss: 0.4166 - acc: 0.8191 - val_loss: 0.5303 - val_acc: 0.8071\n",
            "Epoch 133/150\n",
            "514/514 [==============================] - 0s 162us/step - loss: 0.3996 - acc: 0.8249 - val_loss: 0.5313 - val_acc: 0.8031\n",
            "Epoch 134/150\n",
            "514/514 [==============================] - 0s 163us/step - loss: 0.4073 - acc: 0.8152 - val_loss: 0.5065 - val_acc: 0.8031\n",
            "Epoch 135/150\n",
            "514/514 [==============================] - 0s 155us/step - loss: 0.4034 - acc: 0.8191 - val_loss: 0.5359 - val_acc: 0.8150\n",
            "Epoch 136/150\n",
            "514/514 [==============================] - 0s 180us/step - loss: 0.4019 - acc: 0.8113 - val_loss: 0.5137 - val_acc: 0.8110\n",
            "Epoch 137/150\n",
            "514/514 [==============================] - 0s 153us/step - loss: 0.4095 - acc: 0.8152 - val_loss: 0.5391 - val_acc: 0.8031\n",
            "Epoch 138/150\n",
            "514/514 [==============================] - 0s 155us/step - loss: 0.4068 - acc: 0.8132 - val_loss: 0.5279 - val_acc: 0.8031\n",
            "Epoch 139/150\n",
            "514/514 [==============================] - 0s 154us/step - loss: 0.3952 - acc: 0.8093 - val_loss: 0.5801 - val_acc: 0.7953\n",
            "Epoch 140/150\n",
            "514/514 [==============================] - 0s 156us/step - loss: 0.4208 - acc: 0.7957 - val_loss: 0.5149 - val_acc: 0.8189\n",
            "Epoch 141/150\n",
            "514/514 [==============================] - 0s 153us/step - loss: 0.4088 - acc: 0.8132 - val_loss: 0.5161 - val_acc: 0.8228\n",
            "Epoch 142/150\n",
            "514/514 [==============================] - 0s 162us/step - loss: 0.3981 - acc: 0.8249 - val_loss: 0.5511 - val_acc: 0.8071\n",
            "Epoch 143/150\n",
            "514/514 [==============================] - 0s 150us/step - loss: 0.4100 - acc: 0.8249 - val_loss: 0.5333 - val_acc: 0.7913\n",
            "Epoch 144/150\n",
            "514/514 [==============================] - 0s 150us/step - loss: 0.4044 - acc: 0.8152 - val_loss: 0.5074 - val_acc: 0.8071\n",
            "Epoch 145/150\n",
            "514/514 [==============================] - 0s 172us/step - loss: 0.4089 - acc: 0.8054 - val_loss: 0.5276 - val_acc: 0.8071\n",
            "Epoch 146/150\n",
            "514/514 [==============================] - 0s 155us/step - loss: 0.4155 - acc: 0.8113 - val_loss: 0.5237 - val_acc: 0.7992\n",
            "Epoch 147/150\n",
            "514/514 [==============================] - 0s 167us/step - loss: 0.4127 - acc: 0.8093 - val_loss: 0.5396 - val_acc: 0.8031\n",
            "Epoch 148/150\n",
            "514/514 [==============================] - 0s 164us/step - loss: 0.4093 - acc: 0.8054 - val_loss: 0.5424 - val_acc: 0.8071\n",
            "Epoch 149/150\n",
            "514/514 [==============================] - 0s 182us/step - loss: 0.4198 - acc: 0.8054 - val_loss: 0.5675 - val_acc: 0.8268\n",
            "Epoch 150/150\n",
            "514/514 [==============================] - 0s 182us/step - loss: 0.4156 - acc: 0.8113 - val_loss: 0.5292 - val_acc: 0.8071\n"
          ],
          "name": "stdout"
        },
        {
          "output_type": "execute_result",
          "data": {
            "text/plain": [
              "<keras.callbacks.History at 0x7f2a8a2e4e80>"
            ]
          },
          "metadata": {
            "tags": []
          },
          "execution_count": 36
        }
      ]
    },
    {
      "cell_type": "code",
      "metadata": {
        "id": "LZ54IeyKsBzs",
        "colab_type": "code",
        "colab": {}
      },
      "source": [
        ""
      ],
      "execution_count": 0,
      "outputs": []
    }
  ]
}